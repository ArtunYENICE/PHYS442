{
 "cells": [
  {
   "cell_type": "markdown",
   "metadata": {},
   "source": [
    "# 442 Giriş Dersi"
   ]
  },
  {
   "cell_type": "code",
   "execution_count": 10,
   "metadata": {
    "scrolled": true
   },
   "outputs": [],
   "source": [
    "import numpy as np\n",
    "from ROOT import TCanvas, TGraphErrors, TF1\n",
    "from ROOT import gROOT\n",
    "from array import array"
   ]
  },
  {
   "cell_type": "code",
   "execution_count": 16,
   "metadata": {},
   "outputs": [],
   "source": [
    "ndata = 9\n",
    "\n",
    "y  =  array( 'f', [ 0, 0, 0, 691, 701, 724, 761, 737, 767, ])\n",
    "x  =  array( 'f', [ 300, 320, 340, 360, 380, 400, 420, 440, 460, ])\n",
    "sy =  array( 'f', [ 1, 1, 1, 26, 26, 26, 27, 27, 27, ])\n",
    "sx =  array( 'f', [ 0, 0, 0, 0, 0, 0, 0, 0, 0, ])\n",
    "\n",
    "weight = 0\n",
    "totw = 0 # Total weight\n",
    "xybar = 0; xbar = 0; ybar = 0; x2bar = 0 # weighted averages"
   ]
  },
  {
   "cell_type": "code",
   "execution_count": 17,
   "metadata": {},
   "outputs": [],
   "source": [
    "for i in range(ndata):\n",
    "    weight = 1./(sy[i]*sy[i])\n",
    "    totw += weight\n",
    "    xybar += (x[i]*y[i]*weight)\n",
    "    xbar += (x[i]*weight)\n",
    "    ybar += (y[i]*weight)\n",
    "    x2bar += (x[i]*x[i]*weight)\n",
    "\n",
    "xybar /= totw\n",
    "xbar /= totw\n",
    "ybar /= totw\n",
    "x2bar /= totw"
   ]
  },
  {
   "cell_type": "code",
   "execution_count": 18,
   "metadata": {
    "scrolled": true
   },
   "outputs": [
    {
     "name": "stdout",
     "output_type": "stream",
     "text": [
      "slope of fit line = 0.638549791111 +- 0.0337613575143\n",
      "intercept of fit line = -202.42411311 +- 10.8275240852\n"
     ]
    }
   ],
   "source": [
    "sy2bar = ndata / totw # weighted average error squared\n",
    "slope = (xybar - xbar*ybar) / (x2bar - xbar*xbar)\n",
    "itcpt = ybar - slope * xbar\n",
    "slopeerr = np.sqrt( sy2bar / (ndata * (x2bar - xbar*xbar) ) )\n",
    "itcpterr = np.sqrt( x2bar ) * slopeerr\n",
    "\n",
    "print(\"slope of fit line = {} +- {}\".format(slope, slopeerr))\n",
    "print(\"intercept of fit line = {} +- {}\".format(itcpt, itcpterr))\n"
   ]
  },
  {
   "cell_type": "code",
   "execution_count": 20,
   "metadata": {
    "scrolled": false
   },
   "outputs": [
    {
     "name": "stderr",
     "output_type": "stream",
     "text": [
      "Warning in <TCanvas::Constructor>: Deleting canvas with same name: c1\n"
     ]
    },
    {
     "data": {
      "image/png": "[encoded data removed]",
      "text/plain": [
       "<IPython.core.display.Image object>"
      ]
     },
     "metadata": {},
     "output_type": "display_data"
    }
   ],
   "source": [
    "c1 = TCanvas( 'c1', 'A Simple Graph with error bars', 200, 10, 600, 400 )\n",
    "             \n",
    "mygraph = TGraphErrors(ndata,x,y,sx,sy)\n",
    "mygraph.Draw(\"A*\")\n",
    "mygraph.SetTitle(\"Calibration Data\")\n",
    "mygraph.GetYaxis().SetTitle(\"Number of decays\")\n",
    "mygraph.GetXaxis ().SetTitle (\"Voltage Applied (Volts) \")\n",
    "\n",
    "c1.Draw()"
   ]
  },
  {
   "cell_type": "code",
   "execution_count": 15,
   "metadata": {},
   "outputs": [
    {
     "data": {
      "image/png": "[encoded data removed]",
      "text/plain": [
       "<IPython.core.display.Image object>"
      ]
     },
     "metadata": {},
     "output_type": "display_data"
    }
   ],
   "source": [
    "ffitline = TF1(\"ffitline\",\"[0]*x+[1]\",0,6)\n",
    "ffitline.SetParameter(0,slope)\n",
    "ffitline.SetParameter(1,itcpt)\n",
    "ffitline.SetLineColor(4) # draw in blue color\n",
    "ffitline.SetLineStyle(2) # draw dotted line\n",
    "ffitline.Draw(\"same\")\n",
    "c1.Draw()"
   ]
  },
  {
   "cell_type": "code",
   "execution_count": null,
   "metadata": {},
   "outputs": [],
   "source": [
    "fnew = TF1(\"fnew\",\"[0]*x+[1]\",0,6)\n",
    "fnew.SetParameters(3.1416,2.7182) # arbitrary starting parameters\n",
    "mygraph.Fit(fnew)\n",
    "fnew.Draw(\"same\")\n",
    "c1.Draw()"
   ]
  },
  {
   "cell_type": "code",
   "execution_count": null,
   "metadata": {},
   "outputs": [],
   "source": []
  },
  {
   "cell_type": "code",
   "execution_count": null,
   "metadata": {},
   "outputs": [],
   "source": []
  },
  {
   "cell_type": "code",
   "execution_count": null,
   "metadata": {},
   "outputs": [],
   "source": []
  },
  {
   "cell_type": "code",
   "execution_count": null,
   "metadata": {},
   "outputs": [],
   "source": []
  },
  {
   "cell_type": "code",
   "execution_count": null,
   "metadata": {},
   "outputs": [],
   "source": []
  },
  {
   "cell_type": "code",
   "execution_count": null,
   "metadata": {},
   "outputs": [],
   "source": []
  },
  {
   "cell_type": "code",
   "execution_count": null,
   "metadata": {},
   "outputs": [],
   "source": []
  },
  {
   "cell_type": "code",
   "execution_count": null,
   "metadata": {},
   "outputs": [],
   "source": []
  },
  {
   "cell_type": "code",
   "execution_count": null,
   "metadata": {},
   "outputs": [],
   "source": []
  },
  {
   "cell_type": "code",
   "execution_count": null,
   "metadata": {},
   "outputs": [],
   "source": []
  }
 ],
 "metadata": {
  "kernelspec": {
   "display_name": "Python 2",
   "language": "python",
   "name": "python2"
  },
  "language_info": {
   "codemirror_mode": {
    "name": "ipython",
    "version": 2
   },
   "file_extension": ".py",
   "mimetype": "text/x-python",
   "name": "python",
   "nbconvert_exporter": "python",
   "pygments_lexer": "ipython2",
   "version": "2.7.15+"
  }
 },
 "nbformat": 4,
 "nbformat_minor": 2
}
